{
 "cells": [
  {
   "cell_type": "code",
   "execution_count": 4,
   "metadata": {},
   "outputs": [
    {
     "name": "stdout",
     "output_type": "stream",
     "text": [
      "Guess the correct english word of OBANWRI\n",
      "Enter the choice\n",
      "A. RANIBOW\n",
      "B. RAINBOW\n",
      "C. BOWRANI\n",
      "D. ROBWANI\n",
      "b\n",
      "Correct\n"
     ]
    }
   ],
   "source": [
    "#Problem1:\n",
    "print(\"Guess the correct english word of OBANWRI\")\n",
    "choice = input(\"Enter the choice\\nA. RANIBOW\\nB. RAINBOW\\nC. BOWRANI\\nD. ROBWANI\\n\")\n",
    "if choice == 'B':\n",
    "    print(\"Correct\")"
   ]
  },
  {
   "cell_type": "code",
   "execution_count": 7,
   "metadata": {},
   "outputs": [
    {
     "name": "stdout",
     "output_type": "stream",
     "text": [
      "\"LETS UPGRADE\"\n"
     ]
    }
   ],
   "source": [
    "#Problem2:\n",
    "str = '\"lets upgrade\"'\n",
    "str = str.upper()\n",
    "print(str)\n"
   ]
  },
  {
   "cell_type": "code",
   "execution_count": 10,
   "metadata": {},
   "outputs": [
    {
     "name": "stdout",
     "output_type": "stream",
     "text": [
      "10\n",
      "20\n",
      "Profit\n"
     ]
    }
   ],
   "source": [
    "#Problem3:\n",
    "cost_price = int(input(\"\"))\n",
    "selling_price = int(input(\"\"))\n",
    "if(cost_price<selling_price):\n",
    "    print(\"Profit\")\n",
    "elif(cost_price>selling_price):\n",
    "    print(\"Loss\")\n",
    "else:\n",
    "    print(\"Neither\")\n",
    "    \n"
   ]
  },
  {
   "cell_type": "code",
   "execution_count": 11,
   "metadata": {},
   "outputs": [
    {
     "name": "stdout",
     "output_type": "stream",
     "text": [
      "20\n",
      "1600\n"
     ]
    }
   ],
   "source": [
    "#Problem4:\n",
    "euros = int(input(\"\"))\n",
    "rupees = euros*80\n",
    "print(rupees)\n"
   ]
  }
 ],
 "metadata": {
  "kernelspec": {
   "display_name": "Python 3",
   "language": "python",
   "name": "python3"
  },
  "language_info": {
   "codemirror_mode": {
    "name": "ipython",
    "version": 3
   },
   "file_extension": ".py",
   "mimetype": "text/x-python",
   "name": "python",
   "nbconvert_exporter": "python",
   "pygments_lexer": "ipython3",
   "version": "3.8.3"
  }
 },
 "nbformat": 4,
 "nbformat_minor": 4
}
