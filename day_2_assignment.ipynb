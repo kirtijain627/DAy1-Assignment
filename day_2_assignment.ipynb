{
 "cells": [
  {
   "cell_type": "code",
   "execution_count": 4,
   "metadata": {},
   "outputs": [
    {
     "name": "stdout",
     "output_type": "stream",
     "text": [
      "enter any number12\n",
      "enter any number3\n",
      "enter any number2\n",
      "enter any number6\n",
      "enter any number5\n",
      "enter any number7\n",
      "enter any number3\n",
      "enter any number8\n",
      "enter any number9\n",
      "enter any number34\n",
      "[12, 2, 6, 8, 34]\n"
     ]
    }
   ],
   "source": [
    "#Problem 1:\n",
    "\n",
    "num = []\n",
    "i = 0\n",
    "while(i<10):\n",
    "    n = int(input(\"enter any number\"))\n",
    "    if(n%2==0):\n",
    "        num.append(n)\n",
    "    i=i+1\n",
    "print(num)"
   ]
  },
  {
   "cell_type": "code",
   "execution_count": 15,
   "metadata": {},
   "outputs": [
    {
     "name": "stdout",
     "output_type": "stream",
     "text": [
      "[1, 4, 9, 16, 25, 36, 49, 64, 81, 100]\n",
      "['K', 'I', 'R', 'T', 'I']\n",
      "[2, 4, 6, 8, 10, 12, 14, 16, 18, 20]\n",
      "[10, 20]\n",
      "[[0, 1, 2], [0, 1, 2], [0, 1, 2]]\n"
     ]
    }
   ],
   "source": [
    "#Problem 2:\n",
    "#List Comprehension:\n",
    "\n",
    "list1=[i*i for i in range(1,11)]\n",
    "print(list1)\n",
    "\n",
    "list2 = [item.upper() for item in \"kirti\"]\n",
    "print(list2)\n",
    "\n",
    "list3 = [num for num in range(1,21) if num%2 == 0]\n",
    "print(list3)\n",
    "\n",
    "list4 = [num for num in range(1,21) if num%2 == 0 and num%5 == 0]\n",
    "print(list4)\n",
    "\n",
    "\n",
    "list5 = [[j for j in range(3)] for i in range(3)]\n",
    "print(list5)\n",
    "\n"
   ]
  },
  {
   "cell_type": "code",
   "execution_count": 8,
   "metadata": {},
   "outputs": [
    {
     "name": "stdout",
     "output_type": "stream",
     "text": [
      " 4\n",
      "{1: 1, 2: 4, 3: 9, 4: 16}\n"
     ]
    }
   ],
   "source": [
    "#Problem 3:\n",
    "\n",
    "d = dict()\n",
    "n = int(input(\" \"))\n",
    "for i in range(1,n+1):\n",
    "    d[i] = i*i\n",
    "print(d)\n",
    "    "
   ]
  },
  {
   "cell_type": "code",
   "execution_count": 30,
   "metadata": {},
   "outputs": [
    {
     "name": "stdout",
     "output_type": "stream",
     "text": [
      "2\n",
      "UP 3\n",
      "UP 5\n",
      "8\n"
     ]
    }
   ],
   "source": [
    "#problem 4:\n",
    "pos = {\"x\":0,\"y\":0}\n",
    "n = int(input())\n",
    "\n",
    "for i in range (n):\n",
    "    direction,steps =  input().split()      \n",
    "    if direction == \"UP\":             \n",
    "        pos[\"y\"] += int(steps)   \n",
    "    if direction == \"DOWN\":\n",
    "        pos[\"y\"] -= int(steps)\n",
    "    if direction == \"LEFT\":\n",
    "        pos[\"x\"] -= int(steps)\n",
    "    if direction == \"RIGHT\":\n",
    "        pos[\"x\"] += int(steps)\n",
    "\n",
    "print(int(round((pos[\"x\"]**2 + pos[\"y\"]**2)**0.5)))   \n",
    "\n"
   ]
  },
  {
   "cell_type": "code",
   "execution_count": null,
   "metadata": {},
   "outputs": [],
   "source": []
  },
  {
   "cell_type": "code",
   "execution_count": null,
   "metadata": {},
   "outputs": [],
   "source": []
  }
 ],
 "metadata": {
  "kernelspec": {
   "display_name": "Python 3",
   "language": "python",
   "name": "python3"
  },
  "language_info": {
   "codemirror_mode": {
    "name": "ipython",
    "version": 3
   },
   "file_extension": ".py",
   "mimetype": "text/x-python",
   "name": "python",
   "nbconvert_exporter": "python",
   "pygments_lexer": "ipython3",
   "version": "3.8.3"
  }
 },
 "nbformat": 4,
 "nbformat_minor": 4
}
