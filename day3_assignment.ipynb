{
 "cells": [
  {
   "cell_type": "code",
   "execution_count": 9,
   "metadata": {},
   "outputs": [
    {
     "name": "stdout",
     "output_type": "stream",
     "text": [
      "[[ 2  5  8 11 14 17 20 23 26 29 32 35 38 41 44 47]]\n"
     ]
    }
   ],
   "source": [
    "#Problem1:\n",
    "\n",
    "import numpy as np\n",
    "arr = np.arange(2,50,3)\n",
    "print(arr)"
   ]
  },
  {
   "cell_type": "code",
   "execution_count": 18,
   "metadata": {},
   "outputs": [
    {
     "name": "stdout",
     "output_type": "stream",
     "text": [
      "Enter 5 elements in list1\n",
      "3\n",
      "2\n",
      "5\n",
      "6\n",
      "2\n",
      "Enter 5 elements in list2\n",
      "76\n",
      "8\n",
      "4\n",
      "9\n",
      "3\n",
      "[3 2 5 6 2]\n",
      "[76  8  4  9  3]\n",
      "[ 3  2  5  6  2 76  8  4  9  3]\n",
      "[2 2 3 5 6]\n",
      "[ 3  4  8  9 76]\n"
     ]
    }
   ],
   "source": [
    "# Problem 2:\n",
    "\n",
    "l1 = []\n",
    "l2 = []\n",
    "print(\"Enter 5 elements in list1\")\n",
    "for i in range(5):\n",
    "    num = int(input())\n",
    "    l1.append(num)\n",
    "print(\"Enter 5 elements in list2\")\n",
    "for i in range(5):\n",
    "    num = int(input())\n",
    "    l2.append(num)\n",
    "arr1 = np.array(l1)\n",
    "arr2 = np.array(l2)\n",
    "print(arr1)\n",
    "print(arr2)\n",
    "\n",
    "#concatenate array\n",
    "\n",
    "arr = np.concatenate((arr1,arr2))\n",
    "print(arr)\n",
    "\n",
    "#sort array\n",
    "\n",
    "arr1 = np.sort(arr1)\n",
    "arr2 = np.sort(arr2)\n",
    "print(arr1)\n",
    "print(arr2)\n",
    "    "
   ]
  },
  {
   "cell_type": "code",
   "execution_count": 16,
   "metadata": {
    "scrolled": true
   },
   "outputs": [
    {
     "name": "stdout",
     "output_type": "stream",
     "text": [
      "[0 1 2]\n",
      "\n",
      "\n",
      "[[0 1 2]\n",
      " [3 4 5]\n",
      " [6 7 8]]\n",
      "\n",
      "\n",
      "[[[ 0  1  2]\n",
      "  [ 3  4  5]\n",
      "  [ 6  7  8]]\n",
      "\n",
      " [[ 9 10 11]\n",
      "  [12 13 14]\n",
      "  [15 16 17]]]\n",
      "\n",
      "\n",
      "1\n",
      "2\n",
      "3\n",
      "\n",
      "\n",
      "3\n",
      "9\n",
      "18\n"
     ]
    }
   ],
   "source": [
    "# Problem 3:\n",
    "\n",
    "a1 = np.arange(3)\n",
    "print(a1)\n",
    "#[0 1 2]\n",
    "\n",
    "a2 = np.arange(9).reshape(3,3)\n",
    "print(a2)\n",
    "\n",
    "#[[0 1 2]\n",
    "# [3 4 5]\n",
    " #[6 7 8]]\n",
    "\n",
    "a3 = np.arange(18).reshape(2,3,3)\n",
    "print(a3)\n",
    "\n",
    "#[[[ 0  1  2]\n",
    "#[ 3  4  5]\n",
    "#[ 6  7  8]]\n",
    "\n",
    "# [[ 9 10 11]\n",
    "#  [12 13 14]\n",
    "#  [15 16 17]]]\n",
    "\n",
    "\n",
    "print(a1.ndim)\n",
    "print(a2.ndim)\n",
    "print(a3.ndim)\n",
    "\n",
    "#1\n",
    "#2\n",
    "#3\n",
    "\n",
    "print(a1.size)\n",
    "print(a2.size)\n",
    "print(a3.size)\n",
    "\n",
    "#3\n",
    "#9\n",
    "#18"
   ]
  },
  {
   "cell_type": "code",
   "execution_count": 17,
   "metadata": {},
   "outputs": [
    {
     "name": "stdout",
     "output_type": "stream",
     "text": [
      "[[0 1]\n",
      " [2 3]\n",
      " [4 5]]\n",
      "(1, 3, 2)\n",
      "(3, 1, 2)\n"
     ]
    }
   ],
   "source": [
    "#Problem 4:\n",
    "a = np.arange(6).reshape(3, 2)\n",
    "print(a)\n",
    "# [[0 1]\n",
    "#[2 3]\n",
    "#[4 5]]\n",
    "print(np.expand_dims(a, 0).shape)\n",
    "# (1, 3, 2)\n",
    "\n",
    "print(np.expand_dims(a, 1).shape)\n",
    "# (3, 1, 2)\n",
    "\n",
    "\n"
   ]
  }
 ],
 "metadata": {
  "kernelspec": {
   "display_name": "Python 3",
   "language": "python",
   "name": "python3"
  },
  "language_info": {
   "codemirror_mode": {
    "name": "ipython",
    "version": 3
   },
   "file_extension": ".py",
   "mimetype": "text/x-python",
   "name": "python",
   "nbconvert_exporter": "python",
   "pygments_lexer": "ipython3",
   "version": "3.8.3"
  }
 },
 "nbformat": 4,
 "nbformat_minor": 4
}
